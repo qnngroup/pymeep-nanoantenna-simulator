{
 "cells": [
  {
   "cell_type": "markdown",
   "id": "33592e1c-344d-46ea-a22b-996b4c08d820",
   "metadata": {},
   "source": [
    "# About This Notebook\n",
    "\n",
    "The purpose of this notebook is to break up the Smith Purcell simulation in meep step by step.  There may have been modifications to the main .py file for the simulator since this notebook was written, but the core simulation routine should be the same.  \n",
    "\n",
    "This is hopefully helpful in familiarizing a new meep user with how such a simulation works, and inspire them on how to modify the code for their own purposes if needed."
   ]
  },
  {
   "cell_type": "markdown",
   "id": "29e2177e-097a-47a2-ae7c-8e836e649cc7",
   "metadata": {},
   "source": [
    "## Headers, Functions and Constants"
   ]
  },
  {
   "cell_type": "code",
   "execution_count": 130,
   "id": "100e4e44-fb9d-4547-857f-5cb1ec235d39",
   "metadata": {},
   "outputs": [],
   "source": [
    "#Headers\n",
    "import meep as mp\n",
    "import numpy as np\n",
    "import h5py\n",
    "from mpi4py import MPI\n",
    "import meep.materials as meepmat\n",
    "\n",
    "#Constants\n",
    "# -- Units noted.  \n",
    "# -- Fundamental unit length of 1-um assumed for meep calculations (see meep manual)\n",
    "tcon = 3.33564 #time conversion to meep units (fs/meep time)\n",
    "q =  1.6e-19 # electron charge in coulomb\n",
    "m =  9.10938356e-31 # electron mass in kg \n",
    "\n",
    "#Functions\n",
    "\n",
    "#Functions for calculating index of refraction -- meep style\n",
    "def calc_sig_d(n, k, fcen):\n",
    "    eps = (n + 1j*k)**2\n",
    "    eps_r = np.real(eps)\n",
    "    return 2*np.pi*fcen*np.imag(eps)/eps_r\n",
    "\n",
    "def calc_eps_r(n, k):\n",
    "    eps = (n + 1j*k)**2\n",
    "    return np.real(eps)\n",
    "\n"
   ]
  },
  {
   "cell_type": "markdown",
   "id": "04345446-6f7d-4107-bb13-a2a7adc6ce8b",
   "metadata": {
    "tags": []
   },
   "source": [
    "## Settings for our Calculations"
   ]
  },
  {
   "cell_type": "markdown",
   "id": "b76e41cb-b058-4464-8be8-5fea6f4f819e",
   "metadata": {},
   "source": [
    "### Output File Settings"
   ]
  },
  {
   "cell_type": "code",
   "execution_count": 131,
   "id": "58297573-a705-4e1d-9fbb-64dc39fbff60",
   "metadata": {},
   "outputs": [],
   "source": [
    "save_prefix = 'test_sim'"
   ]
  },
  {
   "cell_type": "markdown",
   "id": "d736f00f-3fff-4b99-bdee-afe001667f6c",
   "metadata": {},
   "source": [
    "### Grating Settings"
   ]
  },
  {
   "cell_type": "code",
   "execution_count": 132,
   "id": "b569da95-67c9-410c-8ad6-2f0ceab5ddfb",
   "metadata": {},
   "outputs": [],
   "source": [
    "#Grating Structure Properties\n",
    "grating_N = 10 #No. of grating elements\n",
    "grating_period = 0.1 #grating period in um\n",
    "grating_height = 0.02 #grating height in um\n",
    "grating_fill_factor = 0.5 #fill-factor from 0 to 1\n",
    "\n",
    "#If you want another grating under the underlayer...\n",
    "lower_grating_height = 0.02\n",
    "\n",
    "#Grating Material Properties\n",
    "grating_material_eps = 13.5\n",
    "want_grating_material_by_name = True\n",
    "grating_material_name = 'Au'\n",
    "\n",
    "#Grating fill material properties\n",
    "# -- This is the material between each \"tooth\" of the grating\n",
    "grating_fill_material_eps = 1.0\n",
    "want_grating_fill_material_by_name = False\n",
    "grating_fill_material_name = 'Au'\n",
    "\n",
    "#This underlayer is a layer of the grating type of whatever thickness. This is more for traditional\n",
    "#metalic gratings on-top of a planar film.  \n",
    "# -- Can set to 0 thickness if you do not want it\n",
    "underlayer_thick = 0.03\n",
    "want_underlayer_material_by_name = True\n",
    "underlayer_material_eps = 1.0\n",
    "underlayer_material_name = 'Au'\n",
    "\n",
    "\n",
    "#Substrate Material (semi-infinite film underneath grating):\n",
    "substrate_material_eps = 1.55**2"
   ]
  },
  {
   "cell_type": "markdown",
   "id": "58dbe6aa-be56-42fc-8d79-dd7f3e0064cd",
   "metadata": {},
   "source": [
    "### Electron Settings"
   ]
  },
  {
   "cell_type": "code",
   "execution_count": 133,
   "id": "e10dabd6-8913-498f-9fe5-958306594c61",
   "metadata": {},
   "outputs": [],
   "source": [
    "e_height = 0.01 #Height of electron above grating surface (um)\n",
    "W_e = 4e3 # Kinetic energy of electron (eV)"
   ]
  },
  {
   "cell_type": "markdown",
   "id": "81c6b95b-c834-4e41-a51a-dd978f17716a",
   "metadata": {},
   "source": [
    "### FDTD-Specific Settings\n",
    "\n",
    "These are important simulation parameters for running the FDTD simulation.\n",
    "\n",
    "There are six basic components to every simulation.  I find that if I just note to take care of these three components one by one, I create simulations very quickly without any major issues.\n",
    "\n",
    "1. The cell.  This is the world the simulation runs in.  I like to define the cell as being composed of an \"active region\" and a \"boundary region\".  The active region is defined by sizes `sx`, `sy`, and `sz`.  For a two-dimensional simulation you can simply make `sz = 0`.  The full cell is then defined by `sX`, `sY`, `sZ`. The full cell is typically slightly enlarged as you often place PMLs around the boundary of the active region. Note these are personal convention -- meep sees everything as being inside one cell.\n",
    "2. Geometry. This is the definition of the optical properties of each voxel inside the simulation.  There are convenience shapes (blocks, spheres, cones, etc.) that can be used to help you define this.  There is also a way to simply pass your own functions to define optical properties at each voxel.   \n",
    "3. Sources.  Inside the active region you typically place sources and monitors (see point 3).  The sources are essentially all comprised of some oscillating current either at a point, over a line, or over a sheet.  By manipulating these sources with phase-profiles you can create plane-waves, dipoles, etc.  \n",
    "4. Monitors.  The monitors do exactly as they say -- they monitor the fields over a certain region in space.  These can be at a point, over a line, over a sheet, or over a volume.  You can place as many as you like, and use them to monitor fields of any type and in any specified polarization.  You choose this at the output.  \n",
    "5. Fluxes. This is a compliment to monitors.  You can technically monitor the fields and use these to calculate power spectral densities, but meep has these flux components to do this for you and in a more sophisticated and accurate way.  You specify a sheet over which to monitor the flux.  This is essentially the power spectral density through a specified region calculated internally using the pointing vector.  \n",
    "6. The run sequence.  This is the final step.  The simulator is calculating a lot of data on each iterative step of the FDTD process.  The run sequence allows you to tell it what you want to do at each step, how you want the simulation to be run, and what data to actually pull out and save.  This is extremely useful as it gives you the opportunity to tell the code what is worth keeping and what is not so that you don't save things you do not need.  You can also use this to do hack the simulator at each simulation step and do extra calculations beyond those typically performed in FDTD analysis.  \n",
    "\n",
    "My strategy is to typically draw out my simulation by hand on paper.  I define my geometry using the basic provided shapes (or function if needed).  I then place my sources, monitors, and fluxes where they should go depending on what I want to calculate and where.  Finally, I think of my boundary conditions and where I would like to place PMLs, etc.  "
   ]
  },
  {
   "cell_type": "code",
   "execution_count": 134,
   "id": "9ce91aef-88aa-4f1e-8890-a31749135e3c",
   "metadata": {},
   "outputs": [],
   "source": [
    "#Simulation Parameters\n",
    "# -- These parameters are important to running the simulation\n",
    "\n",
    "#Is this the reference simulation?\n",
    "reference = False\n",
    "\n",
    "#PML Thicknesses\n",
    "dpml = 0.5;\n",
    "\n",
    "#Monitor settings\n",
    "monitor_width = 5 #Width in no. of gratings\n",
    "monitor_height = 1.0 #height as a ratio of cell size\n",
    "\n",
    "# Sampling time for monitors in fs\n",
    "t_sample = 0.5 \n",
    "\n",
    "#EPS Averaging in Meep Calculation\n",
    "avgeps = True\n",
    "\n",
    "#Source Terms\n",
    "src_offset = 0.001 # offset of source to material edge\n",
    "\n",
    "#Perfectly Matched Layers\n",
    "dpml = 1.0 #PML thickness around simulation\n",
    "\n",
    "#Cell height (without PMLs)\n",
    "sy = 5 # size of y-dimension\n",
    "\n",
    "#Spatial Resolution\n",
    "res = 200 # Resolution: points per meep-unit\n",
    "        # e.g. if using 1 meep unit = 1 um,\n",
    "        # 1/res um spacing\n",
    "        "
   ]
  },
  {
   "cell_type": "markdown",
   "id": "558935fb-4037-4af2-a76b-b4865cd2c47d",
   "metadata": {},
   "source": [
    "### Frequency Output Range"
   ]
  },
  {
   "cell_type": "code",
   "execution_count": 135,
   "id": "309c7dff-17e6-4efe-9aa6-878d6b1e75ed",
   "metadata": {},
   "outputs": [],
   "source": [
    "#Frequency range for calculations\n",
    "fcen  = 2.0 #Central frequency (inverse wavelength in um)\n",
    "nfreq  = 1000 #Number of frequency samples\n",
    "df  = 1.9*fcen #Bandwidth of simulation"
   ]
  },
  {
   "cell_type": "markdown",
   "id": "8a6e0603-8914-4f02-a1c2-a0b7d2fb8732",
   "metadata": {},
   "source": [
    "## Calculated Parameters\n",
    "\n",
    "These are remaining parameters that are calculated based on user inputs."
   ]
  },
  {
   "cell_type": "markdown",
   "id": "ce3865ac-0839-4509-8e3f-049c12efdd51",
   "metadata": {},
   "source": [
    "### Calculate Remaining Cell Sizes\n",
    "\n",
    "We want to calculate the active cell width `sx` as it depends on the number of grating periods we include in our simulation and it is all well-defined.  We will also then calculate the total cell sizes `SX`, `SY`.  The z-sizes are all 0 for our 2D simulation here. "
   ]
  },
  {
   "cell_type": "code",
   "execution_count": 136,
   "id": "4f2057a3-0c75-4a49-bf4b-e206c06475ef",
   "metadata": {},
   "outputs": [],
   "source": [
    "#Determine overall simulation cell size\n",
    "sx  = grating_period*grating_N*2.0 #Width of the cell in um\n",
    "\n",
    "#Full simulation cell sizes accounting for PMLs\n",
    "sX = 2.0*dpml+ sx\n",
    "sY = 2.0*dpml + sy\n",
    "sZ = 0.0"
   ]
  },
  {
   "cell_type": "markdown",
   "id": "da41bda9-78e9-4f8a-b22f-84ef300c67a3",
   "metadata": {},
   "source": [
    "### Electron Velocity"
   ]
  },
  {
   "cell_type": "code",
   "execution_count": 137,
   "id": "a38768b2-0e0b-4295-aac4-88d53d0667d0",
   "metadata": {},
   "outputs": [],
   "source": [
    "v_e = 1e6*1e-15*tcon*np.sqrt(2.0*q*W_e/m)"
   ]
  },
  {
   "cell_type": "markdown",
   "id": "4014e243-352b-4aed-84c6-ca6948361a32",
   "metadata": {},
   "source": [
    "## Setup the FDTD Simulation"
   ]
  },
  {
   "cell_type": "markdown",
   "id": "8f35c8b5-76e6-4bee-95d2-adbeee9c622c",
   "metadata": {},
   "source": [
    "### Define Materials"
   ]
  },
  {
   "cell_type": "code",
   "execution_count": 138,
   "id": "44ce0530-1097-442f-960e-f5fd0d685f14",
   "metadata": {},
   "outputs": [],
   "source": [
    "if(want_grating_material_by_name):\n",
    "    grating_material = eval('meepmat.' + grating_material_name)\n",
    "else:\n",
    "    grating_material = mp.Medium(epsilon=grating_material_eps)\n",
    "    \n",
    "if(want_grating_fill_material_by_name):\n",
    "    grating_fill_material = eval('meepmat.' + grating_fill_material_name)\n",
    "else:\n",
    "    grating_fill_material = mp.Medium(epsilon=grating_fill_material_eps)\n",
    "    \n",
    "if(want_underlayer_material_by_name):\n",
    "    underlayer_material = eval('meepmat.' + underlayer_material_name)\n",
    "else:\n",
    "    underlayer_material = mp.Medium(epsilon=underlayer_material_eps)\n",
    "\n",
    "\n",
    "substrate_material = mp.Medium(epsilon=substrate_material_eps)"
   ]
  },
  {
   "cell_type": "markdown",
   "id": "65d1b160-7b3e-4ed7-8f7f-dda7952fa6c7",
   "metadata": {},
   "source": [
    "### Define the Geometry"
   ]
  },
  {
   "cell_type": "code",
   "execution_count": 139,
   "id": "0a8189f2-71f1-4005-a0e7-58dd52de93e9",
   "metadata": {},
   "outputs": [],
   "source": [
    "# -- Cell --\n",
    "cell_size = mp.Vector3(sX, sY, sZ)\n",
    "\n",
    "# -- Geometry --\n",
    "geometry = []\n",
    "\n",
    "#Substrate Block\n",
    "geometry.append(mp.Block(center=mp.Vector3(0.0,\n",
    "                                           float(-0.25*sY),\n",
    "                                           0.0),\n",
    "                         size=mp.Vector3(mp.inf,\n",
    "                                         float(0.5*sY),\n",
    "                                         mp.inf),\n",
    "                         material=substrate_material))\n",
    "\n",
    "#Grating Fill Block\n",
    "geometry.append(mp.Block(center=mp.Vector3(0.0,\n",
    "                                           float(0.5*grating_height),\n",
    "                                           0.0),\n",
    "                         size=mp.Vector3(mp.inf,\n",
    "                                         float(grating_height),\n",
    "                                         mp.inf),\n",
    "                         material=grating_fill_material))\n",
    "\n",
    "#Underlayer Block\n",
    "geometry.append(mp.Block(center=mp.Vector3(0.0,\n",
    "                                           float(-0.5*underlayer_thick),\n",
    "                                           0.0),\n",
    "                         size=mp.Vector3(mp.inf,\n",
    "                                         float(underlayer_thick),\n",
    "                                         mp.inf),\n",
    "                         material=underlayer_material))\n",
    "\n",
    "\n",
    "if(not(reference)):\n",
    "\n",
    "    #Loop through and create all desired objects...\n",
    "    for i in range(grating_N):\n",
    "\n",
    "        #Upper Grating\n",
    "        geometry.append(mp.Block(center=mp.Vector3(float(grating_N*grating_period*-0.5 + grating_period*0.25 + i*grating_period),\n",
    "                                                   float(grating_height*0.5),\n",
    "                                                   0.0),\n",
    "                                 size=mp.Vector3(float(grating_period*grating_fill_factor),\n",
    "                                                 float(grating_height),\n",
    "                                                 mp.inf),\n",
    "                                 material=grating_material))\n",
    "        \n",
    "        #Lower Grating\n",
    "        geometry.append(mp.Block(center=mp.Vector3(float(grating_N*grating_period*-0.5 + grating_period*0.25 + i*grating_period),\n",
    "                                                   float(lower_grating_height*-0.5 - underlayer_thick),\n",
    "                                                   0.0),\n",
    "                                 size=mp.Vector3(float(grating_period*grating_fill_factor),\n",
    "                                                 float(lower_grating_height),\n",
    "                                                 mp.inf),\n",
    "                                 material=grating_material))       \n"
   ]
  },
  {
   "cell_type": "markdown",
   "id": "f4491c54-1ccb-4c44-96c7-40cae01582d7",
   "metadata": {},
   "source": [
    "### Boundary Conditions"
   ]
  },
  {
   "cell_type": "code",
   "execution_count": 140,
   "id": "74e396f6-f669-4da9-a13b-3b314708cfef",
   "metadata": {},
   "outputs": [],
   "source": [
    "# -- Periodic Bdr. Cond -- \n",
    "k_point = mp.Vector3(0, 0, 0)"
   ]
  },
  {
   "cell_type": "markdown",
   "id": "d4befe65-20f9-462a-a838-d9265ce558f7",
   "metadata": {},
   "source": [
    "### Symmetries\n",
    "\n",
    "This simulation does not have symmetry.  However, you should note that if your simulation has symmetry, then you can speed up the simulation significantly by including it. \n",
    "\n",
    "This symmetry is NOT symmetry of the objects, but of the fields.  If it is inversion symmetric, then you can include a negative pre-factor to account for it.  "
   ]
  },
  {
   "cell_type": "markdown",
   "id": "32967455-db9c-4fd2-b0a8-65fda6f1fb2d",
   "metadata": {},
   "source": [
    "### Define the PML Layers"
   ]
  },
  {
   "cell_type": "code",
   "execution_count": 141,
   "id": "5f180fd9-3b60-4b1b-aef5-ca8e18f3231b",
   "metadata": {},
   "outputs": [],
   "source": [
    " # -- PML Layers --\n",
    "pml_layers = [mp.PML(thickness=np.double(dpml), direction=mp.X),\n",
    "              mp.PML(thickness=np.double(dpml), direction=mp.Y),\n",
    "              mp.PML(thickness=np.double(dpml), direction=mp.Z)]"
   ]
  },
  {
   "cell_type": "markdown",
   "id": "4b6da666-c06a-49c7-9ece-a258493b883e",
   "metadata": {},
   "source": [
    "### Define the Field Monitors"
   ]
  },
  {
   "cell_type": "code",
   "execution_count": 142,
   "id": "d3666fa2-b49f-4305-9033-86ce2c812b62",
   "metadata": {},
   "outputs": [],
   "source": [
    "#Create a \"volume\" monitor (technically 2D as z = 0) for fields:\n",
    "monitor_xy = mp.Volume(center=mp.Vector3(0, 0),\n",
    "                                   size=mp.Vector3(monitor_width*grating_period, monitor_height*sy, 0))"
   ]
  },
  {
   "cell_type": "markdown",
   "id": "a841f574-ad4a-452f-9659-27c9ea38e7b5",
   "metadata": {},
   "source": [
    "### Sources\n",
    "\n",
    "Here will will have a delta source that is a point current source with zero size.  This reflects a moving charge in space."
   ]
  },
  {
   "cell_type": "code",
   "execution_count": 143,
   "id": "a81eb0b8-f4a7-42a9-b4af-df39251bb5bd",
   "metadata": {},
   "outputs": [],
   "source": [
    "#Y-Polarized Gaussian source next to the dpml at -0.5 sz\n",
    "sources = [mp.Source(mp.ContinuousSource(frequency=1e-10),\n",
    "                     component=mp.Ex,\n",
    "                     center=mp.Vector3(sx*-0.5, grating_height+e_height),\n",
    "                     size=mp.Vector3(0,0,0))]\n"
   ]
  },
  {
   "cell_type": "markdown",
   "id": "a96e9f52-bdb5-42c0-a39f-62e6cd99dde2",
   "metadata": {},
   "source": [
    "### Define our Simulation"
   ]
  },
  {
   "cell_type": "code",
   "execution_count": 144,
   "id": "d50d3443-1910-4972-a94a-81989d1088b1",
   "metadata": {},
   "outputs": [],
   "source": [
    " # -- Load Settings Into Simulation -- \n",
    "sim = mp.Simulation(resolution=res,\n",
    "                    cell_size=cell_size,\n",
    "                    boundary_layers=pml_layers,\n",
    "                    sources=sources,\n",
    "                    k_point=k_point,\n",
    "                    geometry=geometry,\n",
    "                    dimensions=2,\n",
    "                    filename_prefix=save_prefix)"
   ]
  },
  {
   "cell_type": "markdown",
   "id": "e934088d-3231-4813-9789-e9b17a52fc5d",
   "metadata": {},
   "source": [
    "### Define and Add the Flux Regions\n",
    "\n",
    "We define the flux regions and add them to our simulation."
   ]
  },
  {
   "cell_type": "code",
   "execution_count": 145,
   "id": "2ed7c832-6465-4cd9-9a58-1d42820534df",
   "metadata": {
    "tags": []
   },
   "outputs": [],
   "source": [
    "#Air Side\n",
    "air_fr = mp.FluxRegion(center=mp.Vector3(0, sy*0.05, 0), \n",
    "                       size=mp.Vector3(sx, 0, 0),\n",
    "                       direction=mp.Y)\n",
    "air_flux = sim.add_flux(fcen, df, nfreq, air_fr)\n",
    "\n",
    "#Substrate Side\n",
    "substrate_fr = mp.FluxRegion(center=mp.Vector3(0, -1*sy*0.05, 0), \n",
    "                       size=mp.Vector3(sx, 0, 0),\n",
    "                       direction=mp.Y)\n",
    "substrate_flux = sim.add_flux(fcen, df, nfreq, substrate_fr)\n",
    "\n"
   ]
  },
  {
   "cell_type": "markdown",
   "id": "d2f12285-f102-4e73-b9f5-7beafab8fa4d",
   "metadata": {},
   "source": [
    "## Run the Simulation\n",
    "\n",
    "Now we have it all setup -- we just have to run the simulation."
   ]
  },
  {
   "cell_type": "code",
   "execution_count": 146,
   "id": "390c5e60-f214-4122-be7a-ce5bb7ceeea3",
   "metadata": {},
   "outputs": [
    {
     "name": "stdout",
     "output_type": "stream",
     "text": [
      "-----------\n",
      "Initializing structure...\n",
      "time for choose_chunkdivision = 0.00882316 s\n",
      "Working in 2D dimensions.\n",
      "Computational cell is 4 x 7 x 0 with resolution 200\n",
      "     block, center = (0,-1.75,0)\n",
      "          size (1e+20,3.5,1e+20)\n",
      "          axes (1,0,0), (0,1,0), (0,0,1)\n",
      "          dielectric constant epsilon diagonal = (2.4025,2.4025,2.4025)\n",
      "     block, center = (0,0.01,0)\n",
      "          size (1e+20,0.02,1e+20)\n",
      "          axes (1,0,0), (0,1,0), (0,0,1)\n",
      "          dielectric constant epsilon diagonal = (1,1,1)\n",
      "     block, center = (0,-0.015,0)\n",
      "          size (1e+20,0.03,1e+20)\n",
      "          axes (1,0,0), (0,1,0), (0,0,1)\n",
      "          dielectric constant epsilon diagonal = (1,1,1)\n",
      "     block, center = (-0.475,0.01,0)\n",
      "          size (0.05,0.02,1e+20)\n",
      "          axes (1,0,0), (0,1,0), (0,0,1)\n",
      "          dielectric constant epsilon diagonal = (1,1,1)\n",
      "     block, center = (-0.475,-0.04,0)\n",
      "          size (0.05,0.02,1e+20)\n",
      "          axes (1,0,0), (0,1,0), (0,0,1)\n",
      "          dielectric constant epsilon diagonal = (1,1,1)\n",
      "     block, center = (-0.375,0.01,0)\n",
      "          size (0.05,0.02,1e+20)\n",
      "          axes (1,0,0), (0,1,0), (0,0,1)\n",
      "          dielectric constant epsilon diagonal = (1,1,1)\n",
      "     block, center = (-0.375,-0.04,0)\n",
      "          size (0.05,0.02,1e+20)\n",
      "          axes (1,0,0), (0,1,0), (0,0,1)\n",
      "          dielectric constant epsilon diagonal = (1,1,1)\n",
      "     block, center = (-0.275,0.01,0)\n",
      "          size (0.05,0.02,1e+20)\n",
      "          axes (1,0,0), (0,1,0), (0,0,1)\n",
      "          dielectric constant epsilon diagonal = (1,1,1)\n",
      "     block, center = (-0.275,-0.04,0)\n",
      "          size (0.05,0.02,1e+20)\n",
      "          axes (1,0,0), (0,1,0), (0,0,1)\n",
      "          dielectric constant epsilon diagonal = (1,1,1)\n",
      "     block, center = (-0.175,0.01,0)\n",
      "          size (0.05,0.02,1e+20)\n",
      "          axes (1,0,0), (0,1,0), (0,0,1)\n",
      "          dielectric constant epsilon diagonal = (1,1,1)\n",
      "     ...(+ 13 objects not shown)...\n",
      "time for set_epsilon = 4.47161 s\n",
      "lorentzian susceptibility: frequency=10.7433, gamma=1.78571\n",
      "lorentzian susceptibility: frequency=3.47141, gamma=2.01155\n",
      "lorentzian susceptibility: frequency=2.39466, gamma=0.701702\n",
      "lorentzian susceptibility: frequency=0.66944, gamma=0.278261\n",
      "lorentzian susceptibility: frequency=0.33472, gamma=0.19438\n",
      "drude susceptibility: frequency=1e-10, gamma=0.0427474\n",
      "-----------\n",
      "creating output file \"./test_sim-eps-000000000.h5\"...\n"
     ]
    },
    {
     "name": "stderr",
     "output_type": "stream",
     "text": [
      "/home/dkeathley/anaconda3/envs/pymeep/lib/python3.9/site-packages/meep/simulation.py:1343: RuntimeWarning: Note: your sources include frequencies outside the range of validity of the material models. This is fine as long as you eventually only look at outputs (fluxes, resonant modes, etc.) at valid frequencies.\n",
      "  warnings.warn(warn_src, RuntimeWarning)\n",
      "/home/dkeathley/anaconda3/envs/pymeep/lib/python3.9/site-packages/meep/simulation.py:1347: RuntimeWarning: DFT frequency 0.10000000000000009 is out of material's range of 0.16131113692089302-4.0327458966810505\n",
      "  warnings.warn(warn_dft_fmt.format(dftf, min_freq, max_freq), RuntimeWarning)\n"
     ]
    },
    {
     "name": "stdout",
     "output_type": "stream",
     "text": [
      "creating output file \"./test_sim-Ex_xy.h5\"...\n",
      "creating output file \"./test_sim-Ey_xy.h5\"...\n",
      "Meep progress: 0.1075/15.995224211855438 = 0.7% done in 4.1s, 599.8s to go\n",
      "on time step 46 (time=0.115), 0.0900326 s/step\n",
      "Meep progress: 0.2475/15.995224211855438 = 1.5% done in 8.1s, 516.3s to go\n",
      "on time step 104 (time=0.26), 0.0694881 s/step\n",
      "Meep progress: 0.3925/15.995224211855438 = 2.5% done in 12.1s, 482.9s to go\n",
      "on time step 162 (time=0.405), 0.0695776 s/step\n",
      "Meep progress: 0.5375/15.995224211855438 = 3.4% done in 16.2s, 465.3s to go\n",
      "on time step 220 (time=0.55), 0.0695529 s/step\n",
      "Meep progress: 0.675/15.995224211855438 = 4.2% done in 20.2s, 458.5s to go\n",
      "on time step 275 (time=0.6875), 0.0729669 s/step\n",
      "Meep progress: 0.8175/15.995224211855438 = 5.1% done in 24.2s, 450.1s to go\n",
      "on time step 331 (time=0.8275), 0.0737854 s/step\n",
      "Meep progress: 0.9525/15.995224211855438 = 6.0% done in 28.3s, 447.1s to go\n",
      "on time step 387 (time=0.9675), 0.0721615 s/step\n",
      "Meep progress: 1.0975/15.995224211855438 = 6.9% done in 32.3s, 438.7s to go\n",
      "on time step 445 (time=1.1125), 0.0691151 s/step\n",
      "Meep progress: 1.245/15.995224211855438 = 7.8% done in 36.4s, 430.8s to go\n",
      "on time step 504 (time=1.26), 0.0689113 s/step\n",
      "Meep progress: 1.3900000000000001/15.995224211855438 = 8.7% done in 40.4s, 424.2s to go\n",
      "on time step 563 (time=1.4075), 0.0686487 s/step\n",
      "Meep progress: 1.5375/15.995224211855438 = 9.6% done in 44.5s, 418.0s to go\n",
      "on time step 621 (time=1.5525), 0.0703532 s/step\n",
      "Meep progress: 1.6775/15.995224211855438 = 10.5% done in 48.5s, 413.9s to go\n",
      "on time step 678 (time=1.695), 0.0709821 s/step\n",
      "Meep progress: 1.825/15.995224211855438 = 11.4% done in 52.5s, 407.9s to go\n",
      "on time step 737 (time=1.8425), 0.0686307 s/step\n",
      "Meep progress: 1.9725000000000001/15.995224211855438 = 12.3% done in 56.6s, 402.4s to go\n",
      "on time step 796 (time=1.99), 0.0688966 s/step\n",
      "Meep progress: 2.1175/15.995224211855438 = 13.2% done in 60.6s, 397.2s to go\n",
      "on time step 854 (time=2.135), 0.069062 s/step\n",
      "Meep progress: 2.255/15.995224211855438 = 14.1% done in 64.7s, 394.0s to go\n",
      "on time step 907 (time=2.2675), 0.0757006 s/step\n",
      "Meep progress: 2.3925/15.995224211855438 = 15.0% done in 68.7s, 390.6s to go\n",
      "on time step 962 (time=2.405), 0.0731499 s/step\n",
      "Meep progress: 2.5175/15.995224211855438 = 15.7% done in 72.7s, 389.3s to go\n",
      "on time step 1013 (time=2.5325), 0.0785889 s/step\n",
      "Meep progress: 2.64/15.995224211855438 = 16.5% done in 76.7s, 388.1s to go\n",
      "on time step 1063 (time=2.6575), 0.0813446 s/step\n",
      "Meep progress: 2.7575/15.995224211855438 = 17.2% done in 80.8s, 387.8s to go\n",
      "on time step 1108 (time=2.77), 0.089251 s/step\n",
      "Meep progress: 2.8875/15.995224211855438 = 18.1% done in 84.8s, 384.9s to go\n",
      "on time step 1162 (time=2.905), 0.0752005 s/step\n",
      "Meep progress: 3.02/15.995224211855438 = 18.9% done in 88.8s, 381.7s to go\n",
      "on time step 1215 (time=3.0375), 0.0767113 s/step\n",
      "Meep progress: 3.1550000000000002/15.995224211855438 = 19.7% done in 92.9s, 378.0s to go\n",
      "on time step 1269 (time=3.1725), 0.074589 s/step\n",
      "Meep progress: 3.295/15.995224211855438 = 20.6% done in 96.9s, 373.5s to go\n",
      "on time step 1325 (time=3.3125), 0.0723764 s/step\n",
      "Meep progress: 3.4375/15.995224211855438 = 21.5% done in 100.9s, 368.6s to go\n",
      "on time step 1383 (time=3.4575), 0.0700939 s/step\n",
      "Meep progress: 3.58/15.995224211855438 = 22.4% done in 104.9s, 363.9s to go\n",
      "on time step 1440 (time=3.6), 0.0714301 s/step\n",
      "Meep progress: 3.7225/15.995224211855438 = 23.3% done in 109.0s, 359.3s to go\n",
      "on time step 1498 (time=3.745), 0.0697877 s/step\n",
      "Meep progress: 3.8625000000000003/15.995224211855438 = 24.1% done in 113.0s, 355.1s to go\n",
      "on time step 1553 (time=3.8825), 0.0730724 s/step\n",
      "Meep progress: 3.9975/15.995224211855438 = 25.0% done in 117.1s, 351.4s to go\n",
      "on time step 1607 (time=4.0175), 0.0742494 s/step\n",
      "Meep progress: 4.11/15.995224211855438 = 25.7% done in 121.1s, 350.1s to go\n",
      "on time step 1651 (time=4.1275), 0.0919766 s/step\n",
      "Meep progress: 4.23/15.995224211855438 = 26.4% done in 125.1s, 348.0s to go\n",
      "on time step 1700 (time=4.25), 0.082572 s/step\n",
      "Meep progress: 4.355/15.995224211855438 = 27.2% done in 129.1s, 345.2s to go\n",
      "on time step 1751 (time=4.3775), 0.0790105 s/step\n",
      "Meep progress: 4.4750000000000005/15.995224211855438 = 28.0% done in 133.2s, 342.8s to go\n",
      "on time step 1797 (time=4.4925), 0.087554 s/step\n",
      "Meep progress: 4.61/15.995224211855438 = 28.8% done in 137.2s, 338.8s to go\n",
      "on time step 1853 (time=4.6325), 0.0723907 s/step\n",
      "Meep progress: 4.7475000000000005/15.995224211855438 = 29.7% done in 141.2s, 334.6s to go\n",
      "on time step 1908 (time=4.77), 0.0727974 s/step\n",
      "Meep progress: 4.8925/15.995224211855438 = 30.6% done in 145.3s, 329.7s to go\n",
      "on time step 1966 (time=4.915), 0.0697177 s/step\n",
      "Meep progress: 5.0375000000000005/15.995224211855438 = 31.5% done in 149.3s, 324.8s to go\n",
      "on time step 2024 (time=5.06), 0.0696059 s/step\n",
      "Meep progress: 5.1850000000000005/15.995224211855438 = 32.4% done in 153.4s, 319.8s to go\n",
      "on time step 2083 (time=5.2075), 0.068659 s/step\n",
      "Meep progress: 5.33/15.995224211855438 = 33.3% done in 157.4s, 315.0s to go\n",
      "on time step 2141 (time=5.3525), 0.0696223 s/step\n",
      "Meep progress: 5.4775/15.995224211855438 = 34.2% done in 161.5s, 310.1s to go\n",
      "on time step 2199 (time=5.4975), 0.0695822 s/step\n",
      "Meep progress: 5.62/15.995224211855438 = 35.1% done in 165.5s, 305.5s to go\n",
      "on time step 2257 (time=5.6425), 0.0695874 s/step\n",
      "Meep progress: 5.765/15.995224211855438 = 36.0% done in 169.5s, 300.8s to go\n",
      "on time step 2315 (time=5.7875), 0.069226 s/step\n",
      "Meep progress: 5.91/15.995224211855438 = 36.9% done in 173.6s, 296.2s to go\n",
      "on time step 2371 (time=5.9275), 0.0717046 s/step\n",
      "Meep progress: 6.055/15.995224211855438 = 37.9% done in 177.6s, 291.6s to go\n",
      "on time step 2430 (time=6.075), 0.0684785 s/step\n",
      "Meep progress: 6.202500000000001/15.995224211855438 = 38.8% done in 181.7s, 286.9s to go\n",
      "on time step 2489 (time=6.2225), 0.0688777 s/step\n",
      "Meep progress: 6.3500000000000005/15.995224211855438 = 39.7% done in 185.7s, 282.1s to go\n",
      "on time step 2548 (time=6.37), 0.0684183 s/step\n",
      "Meep progress: 6.495/15.995224211855438 = 40.6% done in 189.8s, 277.6s to go\n",
      "on time step 2606 (time=6.515), 0.0694275 s/step\n",
      "Meep progress: 6.6425/15.995224211855438 = 41.5% done in 193.8s, 272.9s to go\n",
      "on time step 2663 (time=6.6575), 0.0708676 s/step\n",
      "Meep progress: 6.7825/15.995224211855438 = 42.4% done in 197.8s, 268.7s to go\n",
      "on time step 2721 (time=6.8025), 0.0696011 s/step\n",
      "Meep progress: 6.9275/15.995224211855438 = 43.3% done in 201.9s, 264.3s to go\n",
      "on time step 2779 (time=6.9475), 0.0699265 s/step\n",
      "Meep progress: 7.07/15.995224211855438 = 44.2% done in 205.9s, 259.9s to go\n",
      "on time step 2836 (time=7.09), 0.0706054 s/step\n",
      "Meep progress: 7.215/15.995224211855438 = 45.1% done in 209.9s, 255.5s to go\n",
      "on time step 2895 (time=7.2375), 0.0688381 s/step\n",
      "Meep progress: 7.3625/15.995224211855438 = 46.0% done in 214.0s, 250.9s to go\n",
      "on time step 2954 (time=7.385), 0.0685991 s/step\n",
      "Meep progress: 7.5075/15.995224211855438 = 46.9% done in 218.0s, 246.5s to go\n",
      "on time step 3012 (time=7.53), 0.0693077 s/step\n",
      "Meep progress: 7.6525/15.995224211855438 = 47.8% done in 222.0s, 242.0s to go\n",
      "on time step 3070 (time=7.675), 0.0690058 s/step\n",
      "Meep progress: 7.8/15.995224211855438 = 48.8% done in 226.1s, 237.5s to go\n",
      "on time step 3128 (time=7.82), 0.0697583 s/step\n",
      "Meep progress: 7.9475/15.995224211855438 = 49.7% done in 230.1s, 233.0s to go\n",
      "on time step 3187 (time=7.9675), 0.0687527 s/step\n",
      "Meep progress: 8.09/15.995224211855438 = 50.6% done in 234.1s, 228.8s to go\n",
      "on time step 3245 (time=8.1125), 0.0700344 s/step\n",
      "Meep progress: 8.235/15.995224211855438 = 51.5% done in 238.1s, 224.4s to go\n",
      "on time step 3303 (time=8.2575), 0.0693148 s/step\n",
      "Meep progress: 8.38/15.995224211855438 = 52.4% done in 242.1s, 220.0s to go\n",
      "on time step 3362 (time=8.405), 0.0689097 s/step\n",
      "Meep progress: 8.5275/15.995224211855438 = 53.3% done in 246.2s, 215.6s to go\n",
      "on time step 3420 (time=8.55), 0.0694345 s/step\n",
      "Meep progress: 8.6725/15.995224211855438 = 54.2% done in 250.2s, 211.3s to go\n",
      "on time step 3480 (time=8.7), 0.0683235 s/step\n",
      "Meep progress: 8.82/15.995224211855438 = 55.1% done in 254.2s, 206.8s to go\n",
      "on time step 3539 (time=8.8475), 0.0678418 s/step\n",
      "Meep progress: 8.9675/15.995224211855438 = 56.1% done in 258.3s, 202.4s to go\n",
      "on time step 3598 (time=8.995), 0.0686682 s/step\n",
      "Meep progress: 9.115/15.995224211855438 = 57.0% done in 262.4s, 198.0s to go\n",
      "on time step 3656 (time=9.14), 0.069414 s/step\n",
      "Meep progress: 9.26/15.995224211855438 = 57.9% done in 266.4s, 193.7s to go\n",
      "on time step 3715 (time=9.2875), 0.0691863 s/step\n",
      "Meep progress: 9.405/15.995224211855438 = 58.8% done in 270.4s, 189.5s to go\n",
      "on time step 3774 (time=9.435), 0.0688953 s/step\n",
      "Meep progress: 9.55/15.995224211855438 = 59.7% done in 274.4s, 185.2s to go\n",
      "on time step 3833 (time=9.5825), 0.0686471 s/step\n",
      "Meep progress: 9.695/15.995224211855438 = 60.6% done in 278.4s, 180.9s to go\n",
      "on time step 3891 (time=9.7275), 0.0694123 s/step\n",
      "Meep progress: 9.84/15.995224211855438 = 61.5% done in 282.4s, 176.7s to go\n",
      "on time step 3947 (time=9.8675), 0.0727485 s/step\n",
      "Meep progress: 9.955/15.995224211855438 = 62.2% done in 286.4s, 173.8s to go\n",
      "on time step 3993 (time=9.9825), 0.0873192 s/step\n",
      "Meep progress: 10.0525/15.995224211855438 = 62.8% done in 290.6s, 171.8s to go\n",
      "on time step 4029 (time=10.0725), 0.11258 s/step\n",
      "Meep progress: 10.175/15.995224211855438 = 63.6% done in 294.6s, 168.5s to go\n",
      "on time step 4082 (time=10.205), 0.076998 s/step\n",
      "Meep progress: 10.307500000000001/15.995224211855438 = 64.4% done in 298.6s, 164.8s to go\n",
      "on time step 4134 (time=10.335), 0.0777748 s/step\n",
      "Meep progress: 10.4375/15.995224211855438 = 65.3% done in 302.7s, 161.2s to go\n",
      "on time step 4188 (time=10.47), 0.0750952 s/step\n",
      "Meep progress: 10.5725/15.995224211855438 = 66.1% done in 306.7s, 157.3s to go\n",
      "on time step 4242 (time=10.605), 0.0744089 s/step\n",
      "Meep progress: 10.6875/15.995224211855438 = 66.8% done in 310.8s, 154.4s to go\n",
      "on time step 4281 (time=10.7025), 0.105605 s/step\n",
      "Meep progress: 10.77/15.995224211855438 = 67.3% done in 314.9s, 152.8s to go\n",
      "on time step 4317 (time=10.7925), 0.111276 s/step\n",
      "Meep progress: 10.8925/15.995224211855438 = 68.1% done in 319.0s, 149.4s to go\n",
      "on time step 4369 (time=10.9225), 0.0787911 s/step\n",
      "Meep progress: 11.025/15.995224211855438 = 68.9% done in 323.0s, 145.6s to go\n",
      "on time step 4423 (time=11.0575), 0.0745123 s/step\n",
      "Meep progress: 11.165000000000001/15.995224211855438 = 69.8% done in 327.0s, 141.5s to go\n",
      "on time step 4479 (time=11.1975), 0.0718143 s/step\n",
      "Meep progress: 11.307500000000001/15.995224211855438 = 70.7% done in 331.1s, 137.3s to go\n",
      "on time step 4536 (time=11.34), 0.0711064 s/step\n",
      "Meep progress: 11.4525/15.995224211855438 = 71.6% done in 335.1s, 132.9s to go\n",
      "on time step 4594 (time=11.485), 0.0697675 s/step\n",
      "Meep progress: 11.595/15.995224211855438 = 72.5% done in 339.1s, 128.7s to go\n",
      "on time step 4652 (time=11.63), 0.0700051 s/step\n",
      "Meep progress: 11.735/15.995224211855438 = 73.4% done in 343.1s, 124.6s to go\n",
      "on time step 4708 (time=11.77), 0.0716763 s/step\n",
      "Meep progress: 11.875/15.995224211855438 = 74.2% done in 347.2s, 120.5s to go\n",
      "on time step 4764 (time=11.91), 0.0723048 s/step\n",
      "Meep progress: 12.0225/15.995224211855438 = 75.2% done in 351.2s, 116.1s to go\n",
      "on time step 4823 (time=12.0575), 0.0686204 s/step\n",
      "Meep progress: 12.17/15.995224211855438 = 76.1% done in 355.3s, 111.7s to go\n",
      "on time step 4881 (time=12.2025), 0.0689912 s/step\n",
      "Meep progress: 12.3175/15.995224211855438 = 77.0% done in 359.4s, 107.3s to go\n",
      "on time step 4939 (time=12.3475), 0.0689882 s/step\n",
      "Meep progress: 12.4575/15.995224211855438 = 77.9% done in 363.4s, 103.2s to go\n",
      "on time step 4995 (time=12.4875), 0.0719165 s/step\n",
      "Meep progress: 12.602500000000001/15.995224211855438 = 78.8% done in 367.4s, 98.9s to go\n",
      "on time step 5053 (time=12.6325), 0.069433 s/step\n",
      "Meep progress: 12.75/15.995224211855438 = 79.7% done in 371.5s, 94.6s to go\n",
      "on time step 5111 (time=12.7775), 0.0697191 s/step\n",
      "Meep progress: 12.895/15.995224211855438 = 80.6% done in 375.6s, 90.3s to go\n",
      "on time step 5168 (time=12.92), 0.0710693 s/step\n",
      "Meep progress: 13.035/15.995224211855438 = 81.5% done in 379.6s, 86.2s to go\n",
      "on time step 5224 (time=13.06), 0.0718595 s/step\n",
      "Meep progress: 13.18/15.995224211855438 = 82.4% done in 383.7s, 82.0s to go\n",
      "on time step 5282 (time=13.205), 0.0700622 s/step\n",
      "Meep progress: 13.3125/15.995224211855438 = 83.2% done in 387.8s, 78.1s to go\n",
      "on time step 5334 (time=13.335), 0.0769529 s/step\n",
      "Meep progress: 13.4525/15.995224211855438 = 84.1% done in 391.8s, 74.1s to go\n",
      "on time step 5391 (time=13.4775), 0.0705171 s/step\n",
      "Meep progress: 13.5975/15.995224211855438 = 85.0% done in 395.8s, 69.8s to go\n",
      "on time step 5449 (time=13.6225), 0.0698352 s/step\n",
      "Meep progress: 13.7425/15.995224211855438 = 85.9% done in 399.8s, 65.5s to go\n",
      "on time step 5507 (time=13.7675), 0.069379 s/step\n",
      "Meep progress: 13.887500000000001/15.995224211855438 = 86.8% done in 403.9s, 61.3s to go\n",
      "on time step 5565 (time=13.9125), 0.0696919 s/step\n",
      "Meep progress: 14.0325/15.995224211855438 = 87.7% done in 407.9s, 57.1s to go\n",
      "on time step 5623 (time=14.0575), 0.0692 s/step\n",
      "Meep progress: 14.18/15.995224211855438 = 88.7% done in 412.0s, 52.7s to go\n",
      "on time step 5682 (time=14.205), 0.068815 s/step\n",
      "Meep progress: 14.3275/15.995224211855438 = 89.6% done in 416.0s, 48.4s to go\n",
      "on time step 5741 (time=14.3525), 0.0689857 s/step\n",
      "Meep progress: 14.47/15.995224211855438 = 90.5% done in 420.1s, 44.3s to go\n",
      "on time step 5798 (time=14.495), 0.0706006 s/step\n",
      "Meep progress: 14.61/15.995224211855438 = 91.3% done in 424.1s, 40.2s to go\n",
      "on time step 5854 (time=14.635), 0.0718805 s/step\n",
      "Meep progress: 14.7575/15.995224211855438 = 92.3% done in 428.1s, 35.9s to go\n",
      "on time step 5912 (time=14.78), 0.0691972 s/step\n",
      "Meep progress: 14.89/15.995224211855438 = 93.1% done in 432.1s, 32.1s to go\n",
      "on time step 5966 (time=14.915), 0.0749979 s/step\n",
      "Meep progress: 15.035/15.995224211855438 = 94.0% done in 436.2s, 27.9s to go\n",
      "on time step 6024 (time=15.06), 0.0694761 s/step\n",
      "Meep progress: 15.1775/15.995224211855438 = 94.9% done in 440.2s, 23.7s to go\n",
      "on time step 6081 (time=15.2025), 0.0707235 s/step\n",
      "Meep progress: 15.3225/15.995224211855438 = 95.8% done in 444.2s, 19.5s to go\n",
      "on time step 6140 (time=15.35), 0.0688503 s/step\n",
      "Meep progress: 15.46/15.995224211855438 = 96.7% done in 448.2s, 15.5s to go\n",
      "on time step 6195 (time=15.4875), 0.0737883 s/step\n",
      "Meep progress: 15.605/15.995224211855438 = 97.6% done in 452.2s, 11.3s to go\n",
      "on time step 6254 (time=15.635), 0.0681949 s/step\n",
      "Meep progress: 15.7525/15.995224211855438 = 98.5% done in 456.3s, 7.0s to go\n",
      "on time step 6313 (time=15.7825), 0.0685689 s/step\n",
      "Meep progress: 15.9/15.995224211855438 = 99.4% done in 460.3s, 2.8s to go\n",
      "on time step 6372 (time=15.93), 0.0687192 s/step\n",
      "run 0 finished at t = 15.9975 (6399 timesteps)\n"
     ]
    }
   ],
   "source": [
    "\n",
    "#Step function for moving the source with time given the electron velocity:\n",
    "def move_source(sim):\n",
    "    sim.change_sources([mp.Source(mp.ContinuousSource(frequency=1e-10),\n",
    "                                  component=mp.Ex,\n",
    "                                  center=mp.Vector3(-0.5*sx + v_e*sim.meep_time(), \n",
    "                                                    grating_height + e_height,\n",
    "                                                    0),\n",
    "                                  size=mp.Vector3(0,0,0))])\n",
    "\n",
    "# -- Run Simulation -- \n",
    "sim.run(move_source,\n",
    "        mp.at_beginning(mp.output_epsilon),\n",
    "        mp.in_volume(monitor_xy,\n",
    "                     mp.to_appended(\"Ex_xy\",\n",
    "                                    mp.at_every(t_sample/tcon, mp.output_efield_x))),\n",
    "        mp.in_volume(monitor_xy,\n",
    "                     mp.to_appended(\"Ey_xy\",\n",
    "                                    mp.at_every(t_sample/tcon, mp.output_efield_y))),\n",
    "        until = sx/v_e)"
   ]
  },
  {
   "cell_type": "markdown",
   "id": "5ef86404-4464-4fb0-99e3-dda14ca6d3c6",
   "metadata": {},
   "source": [
    "## Analyze the Outputs"
   ]
  },
  {
   "cell_type": "markdown",
   "id": "5cd2abc6-ec93-4036-8af3-da7b78ef61b2",
   "metadata": {},
   "source": [
    "### Plot Power Out"
   ]
  },
  {
   "cell_type": "code",
   "execution_count": 147,
   "id": "b33f2cdc-0398-4e4f-94e4-148c9e57496b",
   "metadata": {},
   "outputs": [
    {
     "data": {
      "text/plain": [
       "2.4025000000000003"
      ]
     },
     "metadata": {},
     "output_type": "display_data"
    },
    {
     "data": {
      "text/plain": [
       "-566.2872510454871"
      ]
     },
     "metadata": {},
     "output_type": "display_data"
    },
    {
     "data": {
      "image/png": "[encoded data removed]",
      "text/plain": [
       "<Figure size 720x540 with 1 Axes>"
      ]
     },
     "metadata": {
      "needs_background": "light"
     },
     "output_type": "display_data"
    }
   ],
   "source": [
    "import matplotlib.pyplot as plt\n",
    "\n",
    "air_flux_out = mp.get_fluxes(air_flux)\n",
    "substrate_flux_out = mp.get_fluxes(substrate_flux)\n",
    "flux_freqs = mp.get_flux_freqs(air_flux)\n",
    "\n",
    "\n",
    "lam = 1.0/np.array(flux_freqs)\n",
    "d_lam = -1*np.diff(lam)\n",
    "d_lam = np.append(d_lam, d_lam[-1])\n",
    "\n",
    "#Plot the wavelength spectrum:\n",
    "fig = plt.figure()\n",
    "plt.plot(lam, air_flux_out/d_lam)\n",
    "plt.plot(lam, -1.0*np.array(substrate_flux_out)/d_lam)\n",
    "plt.xlim(0.15, 2.0)\n",
    "plt.xlabel('Wavelength ($\\mu$m)')\n",
    "plt.ylabel('Amplitude ($\\propto$W/um)')\n",
    "\n",
    "fig.set_size_inches(10, 7.5)\n",
    "\n",
    "display(substrate_material_eps)\n",
    "display((1/0.1 + 1/0.9 - v_e/0.1)/(1/0.9 - v_e/0.1)/v_e)\n",
    "\n",
    "\n"
   ]
  },
  {
   "cell_type": "code",
   "execution_count": 154,
   "id": "e501ac15-1061-4803-b465-5e0ff4284f29",
   "metadata": {},
   "outputs": [
    {
     "ename": "TypeError",
     "evalue": "Wrong number or type of arguments for overloaded function 'dft_flux_save_hdf5'.\n  Possible C/C++ prototypes are:\n    meep::dft_flux::save_hdf5(meep::h5file *,char const *)\n    meep::dft_flux::save_hdf5(meep::h5file *)\n    meep::dft_flux::save_hdf5(meep::fields &,char const *,char const *,char const *)\n    meep::dft_flux::save_hdf5(meep::fields &,char const *,char const *)\n    meep::dft_flux::save_hdf5(meep::fields &,char const *)\n",
     "output_type": "error",
     "traceback": [
      "\u001b[0;31m---------------------------------------------------------------------------\u001b[0m",
      "\u001b[0;31mTypeError\u001b[0m                                 Traceback (most recent call last)",
      "\u001b[0;32m/tmp/ipykernel_144171/3808627645.py\u001b[0m in \u001b[0;36m<module>\u001b[0;34m\u001b[0m\n\u001b[0;32m----> 1\u001b[0;31m \u001b[0mair_flux\u001b[0m\u001b[0;34m.\u001b[0m\u001b[0msave_hdf5\u001b[0m\u001b[0;34m(\u001b[0m\u001b[0;34m'test'\u001b[0m\u001b[0;34m)\u001b[0m\u001b[0;34m\u001b[0m\u001b[0;34m\u001b[0m\u001b[0m\n\u001b[0m",
      "\u001b[0;32m~/anaconda3/envs/pymeep/lib/python3.9/site-packages/meep/__init__.py\u001b[0m in \u001b[0;36msave_hdf5\u001b[0;34m(self, *args)\u001b[0m\n\u001b[1;32m   2496\u001b[0m \u001b[0;34m\u001b[0m\u001b[0m\n\u001b[1;32m   2497\u001b[0m     \u001b[0;32mdef\u001b[0m \u001b[0msave_hdf5\u001b[0m\u001b[0;34m(\u001b[0m\u001b[0mself\u001b[0m\u001b[0;34m,\u001b[0m \u001b[0;34m*\u001b[0m\u001b[0margs\u001b[0m\u001b[0;34m)\u001b[0m\u001b[0;34m:\u001b[0m\u001b[0;34m\u001b[0m\u001b[0;34m\u001b[0m\u001b[0m\n\u001b[0;32m-> 2498\u001b[0;31m         \u001b[0;32mreturn\u001b[0m \u001b[0m_meep\u001b[0m\u001b[0;34m.\u001b[0m\u001b[0mdft_flux_save_hdf5\u001b[0m\u001b[0;34m(\u001b[0m\u001b[0mself\u001b[0m\u001b[0;34m,\u001b[0m \u001b[0;34m*\u001b[0m\u001b[0margs\u001b[0m\u001b[0;34m)\u001b[0m\u001b[0;34m\u001b[0m\u001b[0;34m\u001b[0m\u001b[0m\n\u001b[0m\u001b[1;32m   2499\u001b[0m \u001b[0;34m\u001b[0m\u001b[0m\n\u001b[1;32m   2500\u001b[0m     \u001b[0;32mdef\u001b[0m \u001b[0mload_hdf5\u001b[0m\u001b[0;34m(\u001b[0m\u001b[0mself\u001b[0m\u001b[0;34m,\u001b[0m \u001b[0;34m*\u001b[0m\u001b[0margs\u001b[0m\u001b[0;34m)\u001b[0m\u001b[0;34m:\u001b[0m\u001b[0;34m\u001b[0m\u001b[0;34m\u001b[0m\u001b[0m\n",
      "\u001b[0;31mTypeError\u001b[0m: Wrong number or type of arguments for overloaded function 'dft_flux_save_hdf5'.\n  Possible C/C++ prototypes are:\n    meep::dft_flux::save_hdf5(meep::h5file *,char const *)\n    meep::dft_flux::save_hdf5(meep::h5file *)\n    meep::dft_flux::save_hdf5(meep::fields &,char const *,char const *,char const *)\n    meep::dft_flux::save_hdf5(meep::fields &,char const *,char const *)\n    meep::dft_flux::save_hdf5(meep::fields &,char const *)\n"
     ]
    }
   ],
   "source": []
  }
 ],
 "metadata": {
  "kernelspec": {
   "display_name": "Python 3 (ipykernel)",
   "language": "python",
   "name": "python3"
  },
  "language_info": {
   "codemirror_mode": {
    "name": "ipython",
    "version": 3
   },
   "file_extension": ".py",
   "mimetype": "text/x-python",
   "name": "python",
   "nbconvert_exporter": "python",
   "pygments_lexer": "ipython3",
   "version": "3.9.7"
  }
 },
 "nbformat": 4,
 "nbformat_minor": 5
}
